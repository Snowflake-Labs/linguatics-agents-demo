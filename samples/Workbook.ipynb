{
 "cells": [
  {
   "cell_type": "code",
   "execution_count": null,
   "id": "8cc51aee",
   "metadata": {},
   "outputs": [],
   "source": [
    "from dotenv import load_dotenv\n",
    "from getpass import getpass\n",
    "\n",
    "# Sarvam imports\n",
    "from sarvamai import SarvamAI\n",
    "\n",
    "load_dotenv()"
   ]
  },
  {
   "cell_type": "code",
   "execution_count": null,
   "id": "e74b920f",
   "metadata": {},
   "outputs": [],
   "source": [
    "sarvam_client = SarvamAI(\n",
    "    api_subscription_key=getpass(\"SARVAM_API_KEY\"),\n",
    ")"
   ]
  },
  {
   "cell_type": "markdown",
   "id": "4a09708c",
   "metadata": {},
   "source": [
    "## Sample Questions"
   ]
  },
  {
   "cell_type": "code",
   "execution_count": null,
   "id": "6e45e626",
   "metadata": {},
   "outputs": [],
   "source": [
    "e_q = \"Can you show me a breakdown of customer support tickets by service type - cellular vs business internet\"\n",
    "e_q2 = \"How many unique customers have raised a support ticket with a 'Cellular' service type and have 'Email' as their contact preference\"\n",
    "e_q3 = \"What kind of service does Gregory have\"\n",
    "e_q4 = \"Was he charged with roaming fees\""
   ]
  },
  {
   "cell_type": "markdown",
   "id": "cb674c4a",
   "metadata": {},
   "source": [
    "## Tamil"
   ]
  },
  {
   "cell_type": "code",
   "execution_count": null,
   "id": "a453f215",
   "metadata": {},
   "outputs": [],
   "source": [
    "!echo \"\" > tamil_questions.txt\n",
    "for q in [e_q, e_q2, e_q3, e_q4]:\n",
    "    response = sarvam_client.text.translate(\n",
    "        input=q,\n",
    "        source_language_code=\"en-IN\",\n",
    "        target_language_code=\"ta-IN\",\n",
    "        speaker_gender=\"Male\",\n",
    "        mode=\"formal\",\n",
    "        model=\"mayura:v1\",\n",
    "        enable_preprocessing=False,\n",
    "    )\n",
    "    with open(\"tamil_questions.txt\", \"a\", encoding=\"utf-8\") as f:\n",
    "        f.write(f\"Question: {q}\\nAnswer: {response.translated_text}\\n\\n\")"
   ]
  },
  {
   "cell_type": "markdown",
   "id": "ca9afead",
   "metadata": {},
   "source": [
    "## Telugu"
   ]
  },
  {
   "cell_type": "code",
   "execution_count": null,
   "id": "39354590",
   "metadata": {},
   "outputs": [],
   "source": [
    "!echo \"\" > telugu_questions.txt\n",
    "for q in [e_q, e_q2, e_q3, e_q4]:\n",
    "    response = sarvam_client.text.translate(\n",
    "        input=q,\n",
    "        source_language_code=\"en-IN\",\n",
    "        target_language_code=\"te-IN\",\n",
    "        speaker_gender=\"Male\",\n",
    "        mode=\"formal\",\n",
    "        model=\"mayura:v1\",\n",
    "        enable_preprocessing=False,\n",
    "    )\n",
    "    with open(\"telugu_questions.txt\", \"a\", encoding=\"utf-8\") as f:\n",
    "        f.write(f\"Question: {q}\\nAnswer: {response.translated_text}\\n\\n\")"
   ]
  },
  {
   "cell_type": "markdown",
   "id": "a8e27c35",
   "metadata": {},
   "source": [
    "## Kannada"
   ]
  },
  {
   "cell_type": "code",
   "execution_count": null,
   "id": "bbf7cebc",
   "metadata": {},
   "outputs": [],
   "source": [
    "!echo \"\" > kannada_questions.txt\n",
    "for q in [e_q, e_q2, e_q3, e_q4]:\n",
    "    response = sarvam_client.text.translate(\n",
    "        input=q,\n",
    "        source_language_code=\"en-IN\",\n",
    "        target_language_code=\"kn-IN\",\n",
    "        speaker_gender=\"Male\",\n",
    "        mode=\"formal\",\n",
    "        model=\"mayura:v1\",\n",
    "        enable_preprocessing=False,\n",
    "    )\n",
    "    with open(\"kannada_questions.txt\", \"a\", encoding=\"utf-8\") as f:\n",
    "        f.write(f\"Question: {q}\\nAnswer: {response.translated_text}\\n\\n\")"
   ]
  },
  {
   "cell_type": "markdown",
   "id": "561c8723",
   "metadata": {},
   "source": [
    "## Malayalam"
   ]
  },
  {
   "cell_type": "code",
   "execution_count": null,
   "id": "a9cd5a1c",
   "metadata": {},
   "outputs": [],
   "source": [
    "!echo \"\" > malayalam_questions.txt\n",
    "for q in [e_q, e_q2, e_q3, e_q4]:\n",
    "    response = sarvam_client.text.translate(\n",
    "        input=q,\n",
    "        source_language_code=\"en-IN\",\n",
    "        target_language_code=\"ml-IN\",\n",
    "        speaker_gender=\"Male\",\n",
    "        mode=\"formal\",\n",
    "        model=\"mayura:v1\",\n",
    "        enable_preprocessing=False,\n",
    "    )\n",
    "    with open(\"malayalam_questions.txt\", \"a\", encoding=\"utf-8\") as f:\n",
    "        f.write(f\"Question: {q}\\nAnswer: {response.translated_text}\\n\\n\")"
   ]
  },
  {
   "cell_type": "markdown",
   "id": "a0326080",
   "metadata": {},
   "source": [
    "## Hindi"
   ]
  },
  {
   "cell_type": "code",
   "execution_count": null,
   "id": "f314fd9b",
   "metadata": {},
   "outputs": [],
   "source": [
    "!echo \"\" > hindi_questions.txt\n",
    "for q in [e_q, e_q2, e_q3, e_q4]:\n",
    "    response = sarvam_client.text.translate(\n",
    "        input=q,\n",
    "        source_language_code=\"en-IN\",\n",
    "        target_language_code=\"hi-IN\",\n",
    "        speaker_gender=\"Male\",\n",
    "        mode=\"formal\",\n",
    "        model=\"mayura:v1\",\n",
    "        enable_preprocessing=False,\n",
    "    )\n",
    "    with open(\"hindi_questions.txt\", \"a\", encoding=\"utf-8\") as f:\n",
    "        f.write(f\"Question: {q}\\nAnswer: {response.translated_text}\\n\\n\")"
   ]
  }
 ],
 "metadata": {
  "kernelspec": {
   "display_name": ".venv",
   "language": "python",
   "name": "python3"
  },
  "language_info": {
   "codemirror_mode": {
    "name": "ipython",
    "version": 3
   },
   "file_extension": ".py",
   "mimetype": "text/x-python",
   "name": "python",
   "nbconvert_exporter": "python",
   "pygments_lexer": "ipython3",
   "version": "3.12.10"
  }
 },
 "nbformat": 4,
 "nbformat_minor": 5
}
